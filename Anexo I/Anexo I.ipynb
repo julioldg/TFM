{
 "cells": [
  {
   "cell_type": "markdown",
   "id": "5fa3e32e-117b-452b-a398-03342a563a40",
   "metadata": {},
   "source": [
    "## Importar pandas"
   ]
  },
  {
   "cell_type": "code",
   "execution_count": 4,
   "id": "3b7b5835-3603-413e-bde4-a2ab8c4c19e7",
   "metadata": {},
   "outputs": [],
   "source": [
    "import pandas as pd"
   ]
  },
  {
   "cell_type": "markdown",
   "id": "efb8fa4b-f6ca-4d3c-831d-9148f5afd6ea",
   "metadata": {},
   "source": [
    "## Cargar el dataset stroke"
   ]
  },
  {
   "cell_type": "code",
   "execution_count": 5,
   "id": "de1c3e99-ab2e-4b19-b622-96f939a07b81",
   "metadata": {},
   "outputs": [],
   "source": [
    "df = pd.read_csv('/home/guincho/CEMP/stroke.csv')"
   ]
  },
  {
   "cell_type": "markdown",
   "id": "dd3afab4-36d1-477c-9c16-cfd65f53aac7",
   "metadata": {},
   "source": [
    "## Entendiendo los datos. \"Data understanding\"\n",
    "+ Estructura del dataset\n",
    "+ head & columns\n",
    "+ dtypes\n",
    "+ describe"
   ]
  },
  {
   "cell_type": "code",
   "execution_count": 6,
   "id": "403c7233-868e-4d2a-b3c2-c159f9059c51",
   "metadata": {},
   "outputs": [
    {
     "data": {
      "text/plain": [
       "(5110, 12)"
      ]
     },
     "execution_count": 6,
     "metadata": {},
     "output_type": "execute_result"
    }
   ],
   "source": [
    "df.shape"
   ]
  },
  {
   "cell_type": "markdown",
   "id": "b46878e4-1215-4be6-8d17-270942e26842",
   "metadata": {},
   "source": [
    "El primer valor corresponde al numero de filas en el conjunto de datos. Es el numero de observaciones o muestras\n",
    "El segundo valor corresponde al numero de columnas, tambien conocidas como caracteristicas variables o atributos"
   ]
  },
  {
   "cell_type": "code",
   "execution_count": 7,
   "id": "f4cb3406-ab32-494b-8669-ba8fcb8ea416",
   "metadata": {
    "scrolled": true
   },
   "outputs": [
    {
     "data": {
      "text/html": [
       "<div>\n",
       "<style scoped>\n",
       "    .dataframe tbody tr th:only-of-type {\n",
       "        vertical-align: middle;\n",
       "    }\n",
       "\n",
       "    .dataframe tbody tr th {\n",
       "        vertical-align: top;\n",
       "    }\n",
       "\n",
       "    .dataframe thead th {\n",
       "        text-align: right;\n",
       "    }\n",
       "</style>\n",
       "<table border=\"1\" class=\"dataframe\">\n",
       "  <thead>\n",
       "    <tr style=\"text-align: right;\">\n",
       "      <th></th>\n",
       "      <th>id</th>\n",
       "      <th>gender</th>\n",
       "      <th>age</th>\n",
       "      <th>hypertension</th>\n",
       "      <th>heart_disease</th>\n",
       "      <th>ever_married</th>\n",
       "      <th>work_type</th>\n",
       "      <th>Residence_type</th>\n",
       "      <th>avg_glucose_level</th>\n",
       "      <th>bmi</th>\n",
       "      <th>smoking_status</th>\n",
       "      <th>stroke</th>\n",
       "    </tr>\n",
       "  </thead>\n",
       "  <tbody>\n",
       "    <tr>\n",
       "      <th>0</th>\n",
       "      <td>9046</td>\n",
       "      <td>Male</td>\n",
       "      <td>67.0</td>\n",
       "      <td>0</td>\n",
       "      <td>1</td>\n",
       "      <td>Yes</td>\n",
       "      <td>Private</td>\n",
       "      <td>Urban</td>\n",
       "      <td>228.69</td>\n",
       "      <td>36.6</td>\n",
       "      <td>formerly smoked</td>\n",
       "      <td>1</td>\n",
       "    </tr>\n",
       "    <tr>\n",
       "      <th>1</th>\n",
       "      <td>51676</td>\n",
       "      <td>Female</td>\n",
       "      <td>61.0</td>\n",
       "      <td>0</td>\n",
       "      <td>0</td>\n",
       "      <td>Yes</td>\n",
       "      <td>Self-employed</td>\n",
       "      <td>Rural</td>\n",
       "      <td>202.21</td>\n",
       "      <td>NaN</td>\n",
       "      <td>never smoked</td>\n",
       "      <td>1</td>\n",
       "    </tr>\n",
       "    <tr>\n",
       "      <th>2</th>\n",
       "      <td>31112</td>\n",
       "      <td>Male</td>\n",
       "      <td>80.0</td>\n",
       "      <td>0</td>\n",
       "      <td>1</td>\n",
       "      <td>Yes</td>\n",
       "      <td>Private</td>\n",
       "      <td>Rural</td>\n",
       "      <td>105.92</td>\n",
       "      <td>32.5</td>\n",
       "      <td>never smoked</td>\n",
       "      <td>1</td>\n",
       "    </tr>\n",
       "    <tr>\n",
       "      <th>3</th>\n",
       "      <td>60182</td>\n",
       "      <td>Female</td>\n",
       "      <td>49.0</td>\n",
       "      <td>0</td>\n",
       "      <td>0</td>\n",
       "      <td>Yes</td>\n",
       "      <td>Private</td>\n",
       "      <td>Urban</td>\n",
       "      <td>171.23</td>\n",
       "      <td>34.4</td>\n",
       "      <td>smokes</td>\n",
       "      <td>1</td>\n",
       "    </tr>\n",
       "    <tr>\n",
       "      <th>4</th>\n",
       "      <td>1665</td>\n",
       "      <td>Female</td>\n",
       "      <td>79.0</td>\n",
       "      <td>1</td>\n",
       "      <td>0</td>\n",
       "      <td>Yes</td>\n",
       "      <td>Self-employed</td>\n",
       "      <td>Rural</td>\n",
       "      <td>174.12</td>\n",
       "      <td>24.0</td>\n",
       "      <td>never smoked</td>\n",
       "      <td>1</td>\n",
       "    </tr>\n",
       "  </tbody>\n",
       "</table>\n",
       "</div>"
      ],
      "text/plain": [
       "      id  gender   age  hypertension  heart_disease ever_married  \\\n",
       "0   9046    Male  67.0             0              1          Yes   \n",
       "1  51676  Female  61.0             0              0          Yes   \n",
       "2  31112    Male  80.0             0              1          Yes   \n",
       "3  60182  Female  49.0             0              0          Yes   \n",
       "4   1665  Female  79.0             1              0          Yes   \n",
       "\n",
       "       work_type Residence_type  avg_glucose_level   bmi   smoking_status  \\\n",
       "0        Private          Urban             228.69  36.6  formerly smoked   \n",
       "1  Self-employed          Rural             202.21   NaN     never smoked   \n",
       "2        Private          Rural             105.92  32.5     never smoked   \n",
       "3        Private          Urban             171.23  34.4           smokes   \n",
       "4  Self-employed          Rural             174.12  24.0     never smoked   \n",
       "\n",
       "   stroke  \n",
       "0       1  \n",
       "1       1  \n",
       "2       1  \n",
       "3       1  \n",
       "4       1  "
      ]
     },
     "execution_count": 7,
     "metadata": {},
     "output_type": "execute_result"
    }
   ],
   "source": [
    "df.head()"
   ]
  },
  {
   "cell_type": "code",
   "execution_count": 8,
   "id": "4eff405c-11bc-4fa9-9f4b-a62862f36491",
   "metadata": {},
   "outputs": [
    {
     "name": "stdout",
     "output_type": "stream",
     "text": [
      "Index(['id', 'gender', 'age', 'hypertension', 'heart_disease', 'ever_married',\n",
      "       'work_type', 'Residence_type', 'avg_glucose_level', 'bmi',\n",
      "       'smoking_status', 'stroke'],\n",
      "      dtype='object')\n",
      "[0 1]\n",
      "[1 0]\n",
      "['Yes' 'No']\n",
      "['Private' 'Self-employed' 'Govt_job' 'children' 'Never_worked']\n",
      "['Urban' 'Rural']\n",
      "['formerly smoked' 'never smoked' 'smokes' 'Unknown']\n",
      "[1 0]\n"
     ]
    }
   ],
   "source": [
    "print(df.columns)\n",
    "\n",
    "print(df[\"hypertension\"].unique())\n",
    "\n",
    "print(df[\"heart_disease\"].unique())\n",
    "\n",
    "print(df[\"ever_married\"].unique())\n",
    "\n",
    "print(df[\"work_type\"].unique())\n",
    "\n",
    "print(df[\"Residence_type\"].unique())\n",
    "\n",
    "print(df[\"smoking_status\"].unique())\n",
    "\n",
    "print(df[\"stroke\"].unique())\n"
   ]
  },
  {
   "cell_type": "markdown",
   "id": "4b94a67d-1835-46cd-b049-c9cf06ae1684",
   "metadata": {},
   "source": [
    "Esto nos devuelve una lista con el nombre de las columnas, así obtenemos una información más amplia.  Podemos ver si hay alguna columna que a priori podamos eliminar.\n",
    "\n",
    "De momento no eliminamos ninguna, pero si haremos una descripcion de que es cada una de ellas. Ademas hemos visto con unique si podría haber errores de mayúsculas o fallos de escritura que pudieran hacernos ver como diferentes observaciones iguales. Como \"yes\" /= \"Yes\"\n",
    "\n",
    "+ id - Numero de identidad\n",
    "+ gender - genero\n",
    "+ age - edad\n",
    "+ hypertension - 1 es paciente hipertenso/ 0 no hipertenso\n",
    "+ heart_disease - 1 es paciente con enfermedad coronaria/ 0 sin enfermedad\n",
    "+ ever_married - \"Yes\" si el paciente ha estado casado o está/ \"No\" si no. \n",
    "+ work_type - Tipo de trabajo\n",
    "+ ibm - Indice de masa corporal\n",
    "+ Residence_type - Si trabaja en el campo o en ciudad\n",
    "+ smoking_status - Fumador, exfumador, nunca fumó o no se sabe\n",
    "+ stroke - Si ha sufrido un accidente cerebrovascular\n",
    "\n"
   ]
  },
  {
   "cell_type": "code",
   "execution_count": 9,
   "id": "8dc6f8ca-723c-4833-b56e-090328cca893",
   "metadata": {},
   "outputs": [
    {
     "data": {
      "text/plain": [
       "id                     int64\n",
       "gender                object\n",
       "age                  float64\n",
       "hypertension           int64\n",
       "heart_disease          int64\n",
       "ever_married          object\n",
       "work_type             object\n",
       "Residence_type        object\n",
       "avg_glucose_level    float64\n",
       "bmi                  float64\n",
       "smoking_status        object\n",
       "stroke                 int64\n",
       "dtype: object"
      ]
     },
     "execution_count": 9,
     "metadata": {},
     "output_type": "execute_result"
    }
   ],
   "source": [
    "df.dtypes"
   ]
  },
  {
   "cell_type": "markdown",
   "id": "3fdebc07-849b-40d4-86c6-bbd9e16e3177",
   "metadata": {},
   "source": [
    "Podemos ver que tipo tiene cada una de las columnas"
   ]
  },
  {
   "cell_type": "markdown",
   "id": "ba41c37d-0ac4-448a-93e4-87938e056b90",
   "metadata": {},
   "source": [
    "## Preparando los datos. \"Data preparation\"\n",
    "\n",
    "+ Comprobar correccion de los datos\n",
    "+ Cambiar datos y tipos de datos\n",
    "+ Crear nuevas columnas\n"
   ]
  },
  {
   "cell_type": "code",
   "execution_count": 10,
   "id": "42314a3b-aff7-4a29-aa36-6c29c3b545d6",
   "metadata": {},
   "outputs": [],
   "source": [
    "df.rename(columns={'Residence_type' : 'residence_type'}, inplace = True)"
   ]
  },
  {
   "cell_type": "markdown",
   "id": "3888a0b0-6b12-4d98-a145-dad889e9831f",
   "metadata": {},
   "source": [
    "Queremos cambiar el 'yes', 'no' de 'ever_married' a 1 y 0"
   ]
  },
  {
   "cell_type": "code",
   "execution_count": 11,
   "id": "c6ed2732-00f4-4461-86d3-f2f1a8f2fa81",
   "metadata": {},
   "outputs": [],
   "source": [
    "df['ever_married'] = df['ever_married'].map({'Yes':1, 'No':0})"
   ]
  },
  {
   "cell_type": "markdown",
   "id": "6a50ea92-d1c5-4bed-a96f-57fd55fbb049",
   "metadata": {},
   "source": [
    "Ahora veamos si hay ID repetidos"
   ]
  },
  {
   "cell_type": "code",
   "execution_count": 12,
   "id": "f52e9e01-e5d8-4ee7-ab6c-b0e1bd066ffa",
   "metadata": {},
   "outputs": [
    {
     "name": "stdout",
     "output_type": "stream",
     "text": [
      "[]\n"
     ]
    }
   ],
   "source": [
    "id_repetidos = df['id'].duplicated()\n",
    "\n",
    "valores_repetidos = df['id'][id_repetidos].unique()\n",
    "\n",
    "print(valores_repetidos)"
   ]
  },
  {
   "cell_type": "markdown",
   "id": "dc26af5b-d318-49cd-bb4b-d05b2558276f",
   "metadata": {},
   "source": [
    "No hay ninguno."
   ]
  },
  {
   "cell_type": "markdown",
   "id": "eef26936-4cc0-412a-ac61-c6666ab5bc58",
   "metadata": {},
   "source": [
    "Ahora vamos a identificar los NaN que hay por columnas. Antes habíamos comprobado los diferentes resultados de cada columna y no hemos encontrado ningún valor que se hubiese podido introducir en vez de NaN. Algún string del estilo \"No encontrado\". Pero hay columnas en las que faltarán datos "
   ]
  },
  {
   "cell_type": "code",
   "execution_count": 13,
   "id": "6e0ae603-46f2-4262-ab4c-3f4ef2539880",
   "metadata": {},
   "outputs": [
    {
     "name": "stdout",
     "output_type": "stream",
     "text": [
      "id                     0\n",
      "gender                 0\n",
      "age                    0\n",
      "hypertension           0\n",
      "heart_disease          0\n",
      "ever_married           0\n",
      "work_type              0\n",
      "residence_type         0\n",
      "avg_glucose_level      0\n",
      "bmi                  201\n",
      "smoking_status         0\n",
      "stroke                 0\n",
      "dtype: int64\n"
     ]
    }
   ],
   "source": [
    "nan_counts = df.isna().sum()\n",
    "\n",
    "print(nan_counts)"
   ]
  },
  {
   "cell_type": "markdown",
   "id": "e788d547-ff8d-4455-9aff-a3e2294f3e83",
   "metadata": {},
   "source": [
    "La única columna con NaN es bmi o indice de masa corporal. Podemos no eliminar estas filas. Lo que si que haremos será una nueva columna con la clasificación de imc, llamada imc_str\n",
    "+ bmi < 18.5 - Bajo peso\n",
    "+ 18.5 < bmi < 24.9 - Saludable\n",
    "+ 25 < bmi < 29.9 - Sobrepeso\n",
    "+ 30 < bmi < 34.9 - Obesidad de grado I\n",
    "+ 35 < bmi < 39.9 - Obesidad de grado II\n",
    "+ bmi > 40 - Obeso morbido o grado III\n",
    "\n",
    "Este proceso recibe el nombre de binning"
   ]
  },
  {
   "cell_type": "code",
   "execution_count": 14,
   "id": "5bb8e3a1-878c-4f4c-a816-34482eafb139",
   "metadata": {
    "scrolled": true
   },
   "outputs": [
    {
     "data": {
      "text/html": [
       "<div>\n",
       "<style scoped>\n",
       "    .dataframe tbody tr th:only-of-type {\n",
       "        vertical-align: middle;\n",
       "    }\n",
       "\n",
       "    .dataframe tbody tr th {\n",
       "        vertical-align: top;\n",
       "    }\n",
       "\n",
       "    .dataframe thead th {\n",
       "        text-align: right;\n",
       "    }\n",
       "</style>\n",
       "<table border=\"1\" class=\"dataframe\">\n",
       "  <thead>\n",
       "    <tr style=\"text-align: right;\">\n",
       "      <th></th>\n",
       "      <th>id</th>\n",
       "      <th>gender</th>\n",
       "      <th>age</th>\n",
       "      <th>hypertension</th>\n",
       "      <th>heart_disease</th>\n",
       "      <th>ever_married</th>\n",
       "      <th>work_type</th>\n",
       "      <th>residence_type</th>\n",
       "      <th>avg_glucose_level</th>\n",
       "      <th>bmi</th>\n",
       "      <th>smoking_status</th>\n",
       "      <th>stroke</th>\n",
       "      <th>imc_str</th>\n",
       "    </tr>\n",
       "  </thead>\n",
       "  <tbody>\n",
       "    <tr>\n",
       "      <th>0</th>\n",
       "      <td>9046</td>\n",
       "      <td>Male</td>\n",
       "      <td>67.0</td>\n",
       "      <td>0</td>\n",
       "      <td>1</td>\n",
       "      <td>1</td>\n",
       "      <td>Private</td>\n",
       "      <td>Urban</td>\n",
       "      <td>228.69</td>\n",
       "      <td>36.6</td>\n",
       "      <td>formerly smoked</td>\n",
       "      <td>1</td>\n",
       "      <td>Obeso g II</td>\n",
       "    </tr>\n",
       "    <tr>\n",
       "      <th>1</th>\n",
       "      <td>51676</td>\n",
       "      <td>Female</td>\n",
       "      <td>61.0</td>\n",
       "      <td>0</td>\n",
       "      <td>0</td>\n",
       "      <td>1</td>\n",
       "      <td>Self-employed</td>\n",
       "      <td>Rural</td>\n",
       "      <td>202.21</td>\n",
       "      <td>NaN</td>\n",
       "      <td>never smoked</td>\n",
       "      <td>1</td>\n",
       "      <td>NaN</td>\n",
       "    </tr>\n",
       "    <tr>\n",
       "      <th>2</th>\n",
       "      <td>31112</td>\n",
       "      <td>Male</td>\n",
       "      <td>80.0</td>\n",
       "      <td>0</td>\n",
       "      <td>1</td>\n",
       "      <td>1</td>\n",
       "      <td>Private</td>\n",
       "      <td>Rural</td>\n",
       "      <td>105.92</td>\n",
       "      <td>32.5</td>\n",
       "      <td>never smoked</td>\n",
       "      <td>1</td>\n",
       "      <td>Obeso g I</td>\n",
       "    </tr>\n",
       "    <tr>\n",
       "      <th>3</th>\n",
       "      <td>60182</td>\n",
       "      <td>Female</td>\n",
       "      <td>49.0</td>\n",
       "      <td>0</td>\n",
       "      <td>0</td>\n",
       "      <td>1</td>\n",
       "      <td>Private</td>\n",
       "      <td>Urban</td>\n",
       "      <td>171.23</td>\n",
       "      <td>34.4</td>\n",
       "      <td>smokes</td>\n",
       "      <td>1</td>\n",
       "      <td>Obeso g I</td>\n",
       "    </tr>\n",
       "    <tr>\n",
       "      <th>4</th>\n",
       "      <td>1665</td>\n",
       "      <td>Female</td>\n",
       "      <td>79.0</td>\n",
       "      <td>1</td>\n",
       "      <td>0</td>\n",
       "      <td>1</td>\n",
       "      <td>Self-employed</td>\n",
       "      <td>Rural</td>\n",
       "      <td>174.12</td>\n",
       "      <td>24.0</td>\n",
       "      <td>never smoked</td>\n",
       "      <td>1</td>\n",
       "      <td>Peso saludable</td>\n",
       "    </tr>\n",
       "  </tbody>\n",
       "</table>\n",
       "</div>"
      ],
      "text/plain": [
       "      id  gender   age  hypertension  heart_disease  ever_married  \\\n",
       "0   9046    Male  67.0             0              1             1   \n",
       "1  51676  Female  61.0             0              0             1   \n",
       "2  31112    Male  80.0             0              1             1   \n",
       "3  60182  Female  49.0             0              0             1   \n",
       "4   1665  Female  79.0             1              0             1   \n",
       "\n",
       "       work_type residence_type  avg_glucose_level   bmi   smoking_status  \\\n",
       "0        Private          Urban             228.69  36.6  formerly smoked   \n",
       "1  Self-employed          Rural             202.21   NaN     never smoked   \n",
       "2        Private          Rural             105.92  32.5     never smoked   \n",
       "3        Private          Urban             171.23  34.4           smokes   \n",
       "4  Self-employed          Rural             174.12  24.0     never smoked   \n",
       "\n",
       "   stroke         imc_str  \n",
       "0       1      Obeso g II  \n",
       "1       1             NaN  \n",
       "2       1       Obeso g I  \n",
       "3       1       Obeso g I  \n",
       "4       1  Peso saludable  "
      ]
     },
     "execution_count": 14,
     "metadata": {},
     "output_type": "execute_result"
    }
   ],
   "source": [
    "intervalos = [float('-inf'), 18.5, 24.9,29.9, 34.9, 39.9, float('inf')]\n",
    "\n",
    "etiquetas = ['Bajo peso', 'Peso saludable', 'Sobrepeso', 'Obeso g I', 'Obeso g II', 'Obeso g III']\n",
    "\n",
    "df['imc_str'] = pd.cut(df['bmi'], bins=intervalos, labels=etiquetas, right=False)\n",
    "\n",
    "df.head()\n"
   ]
  },
  {
   "cell_type": "markdown",
   "id": "a868d17f-8127-4fbf-9481-239e83f274f4",
   "metadata": {},
   "source": [
    "Por último vamos a ver si hay datos que no tengan sentido como un niño mayor de 18 años o un niño de menos de 16 trabajando para el gobierno. Primero vemos que considera exactamente como niños este dataset "
   ]
  },
  {
   "cell_type": "code",
   "execution_count": 15,
   "id": "639a51fa-b8d3-4213-b6c9-6ccf1b2f278a",
   "metadata": {},
   "outputs": [
    {
     "name": "stdout",
     "output_type": "stream",
     "text": [
      "16.0\n",
      " \n",
      " RESULTADO 2 \n",
      "\n",
      "         id  gender   age  hypertension  heart_disease  ever_married  \\\n",
      "251   16523  Female   8.0             0              0             0   \n",
      "253   46136    Male  14.0             0              0             0   \n",
      "284   26325    Male  14.0             0              0             0   \n",
      "410   54975    Male   7.0             0              0             0   \n",
      "455    7351    Male  13.0             0              0             0   \n",
      "...     ...     ...   ...           ...            ...           ...   \n",
      "4709  41930    Male  15.0             0              0             0   \n",
      "4806  69723    Male  15.0             0              0             0   \n",
      "4903  56629  Female  14.0             0              0             0   \n",
      "4923  72186  Female  15.0             0              0             0   \n",
      "4981  61801    Male  15.0             0              0             0   \n",
      "\n",
      "          work_type residence_type  avg_glucose_level   bmi smoking_status  \\\n",
      "251         Private          Urban             110.89  17.6        Unknown   \n",
      "253    Never_worked          Rural             161.28  19.1        Unknown   \n",
      "284        Govt_job          Urban              82.34  31.6        Unknown   \n",
      "410   Self-employed          Rural              64.06  18.9        Unknown   \n",
      "455         Private          Urban              92.14  23.2   never smoked   \n",
      "...             ...            ...                ...   ...            ...   \n",
      "4709        Private          Rural             144.15  24.1   never smoked   \n",
      "4806        Private          Urban             137.27  19.3   never smoked   \n",
      "4903        Private          Rural              83.56  33.1        Unknown   \n",
      "4923        Private          Rural              82.19  40.5   never smoked   \n",
      "4981        Private          Urban              65.05  24.6        Unknown   \n",
      "\n",
      "      stroke         imc_str  \n",
      "251        0       Bajo peso  \n",
      "253        0  Peso saludable  \n",
      "284        0       Obeso g I  \n",
      "410        0  Peso saludable  \n",
      "455        0  Peso saludable  \n",
      "...      ...             ...  \n",
      "4709       0  Peso saludable  \n",
      "4806       0  Peso saludable  \n",
      "4903       0       Obeso g I  \n",
      "4923       0     Obeso g III  \n",
      "4981       0  Peso saludable  \n",
      "\n",
      "[68 rows x 13 columns]\n",
      " \n",
      " RESULTADO 3 \n",
      "\n",
      "         id  gender    age  hypertension  heart_disease  ever_married  \\\n",
      "162   69768  Female   1.32             0              0             0   \n",
      "245   49669  Female  14.00             0              0             0   \n",
      "249   30669    Male   3.00             0              0             0   \n",
      "282   33759  Female   3.00             0              0             0   \n",
      "290   55680    Male  13.00             0              0             0   \n",
      "...     ...     ...    ...           ...            ...           ...   \n",
      "5089  56714  Female   0.72             0              0             0   \n",
      "5094  28048    Male  13.00             0              0             0   \n",
      "5095  68598    Male   1.08             0              0             0   \n",
      "5098    579    Male   9.00             0              0             0   \n",
      "5104  14180  Female  13.00             0              0             0   \n",
      "\n",
      "     work_type residence_type  avg_glucose_level   bmi smoking_status  stroke  \\\n",
      "162   children          Urban              70.37   NaN        Unknown       1   \n",
      "245   children          Rural              57.93  30.9        Unknown       1   \n",
      "249   children          Rural              95.12  18.0        Unknown       0   \n",
      "282   children          Urban              73.74  16.0        Unknown       0   \n",
      "290   children          Urban             114.84  18.3        Unknown       0   \n",
      "...        ...            ...                ...   ...            ...     ...   \n",
      "5089  children          Rural              62.13  16.8        Unknown       0   \n",
      "5094  children          Urban              82.38  24.3        Unknown       0   \n",
      "5095  children          Rural              79.15  17.4        Unknown       0   \n",
      "5098  children          Urban              71.88  17.5        Unknown       0   \n",
      "5104  children          Rural             103.08  18.6        Unknown       0   \n",
      "\n",
      "             imc_str  \n",
      "162              NaN  \n",
      "245        Obeso g I  \n",
      "249        Bajo peso  \n",
      "282        Bajo peso  \n",
      "290        Bajo peso  \n",
      "...              ...  \n",
      "5089       Bajo peso  \n",
      "5094  Peso saludable  \n",
      "5095       Bajo peso  \n",
      "5098       Bajo peso  \n",
      "5104  Peso saludable  \n",
      "\n",
      "[676 rows x 13 columns]\n",
      " \n",
      " RESULTADO 4 \n",
      "\n",
      "Hay 6 niños que trabajaron y dejaron de fumar \n",
      " 1 niños que trabajaron y fuman hoy \n",
      "\n",
      "Hay 13 niños que nunca trabajaron y dejaron de fumar \n",
      "2 niños que nunca trabajaron y fuman\n"
     ]
    }
   ],
   "source": [
    "mayor_edad_children = df[df['work_type'] == 'children']['age'].max()\n",
    "print(mayor_edad_children)\n",
    "\n",
    "\n",
    "print(\" \\n RESULTADO 2 \\n\")\n",
    "\n",
    "result2 = df[(df['work_type'] != 'children') & (df['age'] < 16)]\n",
    "\n",
    "print(result2)\n",
    "\n",
    "print(\" \\n RESULTADO 3 \\n\")\n",
    "\n",
    "result3 = df[(df['work_type'] == 'children') & (df['age'] < 16)]\n",
    "\n",
    "print(result3)\n",
    "\n",
    "print(\" \\n RESULTADO 4 \\n\")\n",
    "\n",
    "result4 = (df[(df['work_type'] != 'children') & (df['age'] < 16) & (df['smoking_status']== 'formerly smoked')]).shape[0]\n",
    "\n",
    "result5 = (df[(df['work_type'] != 'children') & (df['age'] < 16) & (df['smoking_status']== 'smokes')]).shape[0]\n",
    "\n",
    "result6 = (df[(df['work_type'] == 'children') & (df['age'] < 16) & (df['smoking_status']== 'formerly smoked')]).shape[0]\n",
    "\n",
    "result7 = (df[(df['work_type'] == 'children') & (df['age'] < 16) & (df['smoking_status']== 'smokes')]).shape[0]\n",
    "\n",
    "print(\"Hay {} niños que trabajaron y dejaron de fumar \\n {} niños que trabajaron y fuman hoy \\n\". format(result4, result5)) \n",
    "\n",
    "print(\"Hay {} niños que nunca trabajaron y dejaron de fumar \\n{} niños que nunca trabajaron y fuman\".format(result6,result7)) "
   ]
  },
  {
   "cell_type": "markdown",
   "id": "6735ab5c-1d9a-400d-a2a5-147373e08e1f",
   "metadata": {},
   "source": [
    "La mayor edad que considera para un niño son 16 años.\n",
    "\n",
    "La edad minima para trabajar en la mayoria de paises desarrollados es de 16 años y no tenemos forma de saber exactamente de qué país son estos datos. Aun asi en algunos paises como Estados Unidos es legal trabajar a partir de 14 años con ciertas restricciones. Por ello vamos a cambiar el work_type de aquellos individuos menores de 14 años a 'children'. Cambiaremos a children los 'Never_worked' menores de 16, ya que definen lo mismo. Tambien cambiaremos los 'Govt_job' de menores de 16 a children. \n",
    "\n",
    "Hay 22 niños que fumen o hayan fumado. Eso es verosímil\n"
   ]
  },
  {
   "cell_type": "code",
   "execution_count": 16,
   "id": "65684616-cb05-4ef8-a3ff-3bdc4d1c1ef1",
   "metadata": {},
   "outputs": [],
   "source": [
    "df.loc[df['age'] <= 14, 'work_type'] = 'children'\n",
    "\n",
    "condition = (df['age'] <= 16) & ((df['work_type'] == 'Never_worked') | (df['work_type'] == 'Govt_job'))\n",
    "\n",
    "df.loc[condition, 'work_type'] = 'children'\n"
   ]
  },
  {
   "cell_type": "code",
   "execution_count": 17,
   "id": "c619d59b-5f42-49d3-85be-a0505733d4fe",
   "metadata": {},
   "outputs": [],
   "source": [
    "result = df[(df['work_type'] != 'children') & (df['age'] <= 16)]\n",
    "\n"
   ]
  },
  {
   "cell_type": "markdown",
   "id": "fe0ae9a8-c938-44df-8eaf-f2ffe9c499cb",
   "metadata": {},
   "source": [
    "Ya tenemos los datos corregidos. Vamos a hacer por último un binning con diferentes edades.\n",
    "\n"
   ]
  },
  {
   "cell_type": "code",
   "execution_count": 18,
   "id": "47c39f27-4768-4313-86f9-717ecc07d115",
   "metadata": {},
   "outputs": [],
   "source": [
    "intervalos = [0, 18, 35, 50, 65, float('inf')]\n",
    "\n",
    "etiquetas = ['0-17', '18-34', '35-49', '50-64', '65+']\n",
    "\n",
    "df['grupo_edad'] = pd.cut(df['age'], bins = intervalos, labels = etiquetas, right=False)"
   ]
  },
  {
   "cell_type": "code",
   "execution_count": 19,
   "id": "6167c955-3deb-4784-9186-36d7889e81ad",
   "metadata": {},
   "outputs": [
    {
     "data": {
      "text/html": [
       "<div>\n",
       "<style scoped>\n",
       "    .dataframe tbody tr th:only-of-type {\n",
       "        vertical-align: middle;\n",
       "    }\n",
       "\n",
       "    .dataframe tbody tr th {\n",
       "        vertical-align: top;\n",
       "    }\n",
       "\n",
       "    .dataframe thead th {\n",
       "        text-align: right;\n",
       "    }\n",
       "</style>\n",
       "<table border=\"1\" class=\"dataframe\">\n",
       "  <thead>\n",
       "    <tr style=\"text-align: right;\">\n",
       "      <th></th>\n",
       "      <th>id</th>\n",
       "      <th>gender</th>\n",
       "      <th>age</th>\n",
       "      <th>hypertension</th>\n",
       "      <th>heart_disease</th>\n",
       "      <th>ever_married</th>\n",
       "      <th>work_type</th>\n",
       "      <th>residence_type</th>\n",
       "      <th>avg_glucose_level</th>\n",
       "      <th>bmi</th>\n",
       "      <th>smoking_status</th>\n",
       "      <th>stroke</th>\n",
       "      <th>imc_str</th>\n",
       "      <th>grupo_edad</th>\n",
       "    </tr>\n",
       "  </thead>\n",
       "  <tbody>\n",
       "    <tr>\n",
       "      <th>0</th>\n",
       "      <td>9046</td>\n",
       "      <td>Male</td>\n",
       "      <td>67.0</td>\n",
       "      <td>0</td>\n",
       "      <td>1</td>\n",
       "      <td>1</td>\n",
       "      <td>Private</td>\n",
       "      <td>Urban</td>\n",
       "      <td>228.69</td>\n",
       "      <td>36.6</td>\n",
       "      <td>formerly smoked</td>\n",
       "      <td>1</td>\n",
       "      <td>Obeso g II</td>\n",
       "      <td>65+</td>\n",
       "    </tr>\n",
       "    <tr>\n",
       "      <th>1</th>\n",
       "      <td>51676</td>\n",
       "      <td>Female</td>\n",
       "      <td>61.0</td>\n",
       "      <td>0</td>\n",
       "      <td>0</td>\n",
       "      <td>1</td>\n",
       "      <td>Self-employed</td>\n",
       "      <td>Rural</td>\n",
       "      <td>202.21</td>\n",
       "      <td>NaN</td>\n",
       "      <td>never smoked</td>\n",
       "      <td>1</td>\n",
       "      <td>NaN</td>\n",
       "      <td>50-64</td>\n",
       "    </tr>\n",
       "    <tr>\n",
       "      <th>2</th>\n",
       "      <td>31112</td>\n",
       "      <td>Male</td>\n",
       "      <td>80.0</td>\n",
       "      <td>0</td>\n",
       "      <td>1</td>\n",
       "      <td>1</td>\n",
       "      <td>Private</td>\n",
       "      <td>Rural</td>\n",
       "      <td>105.92</td>\n",
       "      <td>32.5</td>\n",
       "      <td>never smoked</td>\n",
       "      <td>1</td>\n",
       "      <td>Obeso g I</td>\n",
       "      <td>65+</td>\n",
       "    </tr>\n",
       "    <tr>\n",
       "      <th>3</th>\n",
       "      <td>60182</td>\n",
       "      <td>Female</td>\n",
       "      <td>49.0</td>\n",
       "      <td>0</td>\n",
       "      <td>0</td>\n",
       "      <td>1</td>\n",
       "      <td>Private</td>\n",
       "      <td>Urban</td>\n",
       "      <td>171.23</td>\n",
       "      <td>34.4</td>\n",
       "      <td>smokes</td>\n",
       "      <td>1</td>\n",
       "      <td>Obeso g I</td>\n",
       "      <td>35-49</td>\n",
       "    </tr>\n",
       "    <tr>\n",
       "      <th>4</th>\n",
       "      <td>1665</td>\n",
       "      <td>Female</td>\n",
       "      <td>79.0</td>\n",
       "      <td>1</td>\n",
       "      <td>0</td>\n",
       "      <td>1</td>\n",
       "      <td>Self-employed</td>\n",
       "      <td>Rural</td>\n",
       "      <td>174.12</td>\n",
       "      <td>24.0</td>\n",
       "      <td>never smoked</td>\n",
       "      <td>1</td>\n",
       "      <td>Peso saludable</td>\n",
       "      <td>65+</td>\n",
       "    </tr>\n",
       "  </tbody>\n",
       "</table>\n",
       "</div>"
      ],
      "text/plain": [
       "      id  gender   age  hypertension  heart_disease  ever_married  \\\n",
       "0   9046    Male  67.0             0              1             1   \n",
       "1  51676  Female  61.0             0              0             1   \n",
       "2  31112    Male  80.0             0              1             1   \n",
       "3  60182  Female  49.0             0              0             1   \n",
       "4   1665  Female  79.0             1              0             1   \n",
       "\n",
       "       work_type residence_type  avg_glucose_level   bmi   smoking_status  \\\n",
       "0        Private          Urban             228.69  36.6  formerly smoked   \n",
       "1  Self-employed          Rural             202.21   NaN     never smoked   \n",
       "2        Private          Rural             105.92  32.5     never smoked   \n",
       "3        Private          Urban             171.23  34.4           smokes   \n",
       "4  Self-employed          Rural             174.12  24.0     never smoked   \n",
       "\n",
       "   stroke         imc_str grupo_edad  \n",
       "0       1      Obeso g II        65+  \n",
       "1       1             NaN      50-64  \n",
       "2       1       Obeso g I        65+  \n",
       "3       1       Obeso g I      35-49  \n",
       "4       1  Peso saludable        65+  "
      ]
     },
     "execution_count": 19,
     "metadata": {},
     "output_type": "execute_result"
    }
   ],
   "source": [
    "df.head()"
   ]
  },
  {
   "cell_type": "markdown",
   "id": "27cdee84-a4dc-45b5-9546-e7a06700dbfd",
   "metadata": {},
   "source": [
    "Nos habiamos quedado con la columna id, aunque la información que da no es relevante para el análisis, por ver si había alguna repetición. Asi que creamos un nuevo dataset sin esa columna"
   ]
  },
  {
   "cell_type": "code",
   "execution_count": 20,
   "id": "e85fa9a2-9b7b-434e-9366-cc861976dbe9",
   "metadata": {},
   "outputs": [],
   "source": [
    "df1 = df.drop('id', axis = 1)"
   ]
  },
  {
   "cell_type": "markdown",
   "id": "513ebb44-5c3b-406b-b4d2-b33cc299cf8b",
   "metadata": {},
   "source": [
    "Hemos acabado el data preparation y understanding. Creamos un nuevo archivo csv corregido que vamos a estudiar en R"
   ]
  },
  {
   "cell_type": "code",
   "execution_count": 21,
   "id": "86060642-89ef-4915-8d6e-3a5093aaecce",
   "metadata": {},
   "outputs": [],
   "source": [
    "df1.to_csv('stroke_corregido.csv', index = False)"
   ]
  },
  {
   "cell_type": "code",
   "execution_count": null,
   "id": "32e9a834-9bea-47a0-badb-567ca273c20a",
   "metadata": {},
   "outputs": [],
   "source": []
  }
 ],
 "metadata": {
  "kernelspec": {
   "display_name": "Python 3 (ipykernel)",
   "language": "python",
   "name": "python3"
  },
  "language_info": {
   "codemirror_mode": {
    "name": "ipython",
    "version": 3
   },
   "file_extension": ".py",
   "mimetype": "text/x-python",
   "name": "python",
   "nbconvert_exporter": "python",
   "pygments_lexer": "ipython3",
   "version": "3.10.12"
  }
 },
 "nbformat": 4,
 "nbformat_minor": 5
}
