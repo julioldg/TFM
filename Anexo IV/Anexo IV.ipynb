{
 "cells": [
  {
   "cell_type": "markdown",
   "id": "02b5ab8d-892d-4263-9422-900217827842",
   "metadata": {},
   "source": [
    "# Metodos de clasificación"
   ]
  },
  {
   "cell_type": "markdown",
   "id": "de7328f9-415c-4635-bf26-e3e3eabbabe1",
   "metadata": {},
   "source": [
    "## Importacion de libraries"
   ]
  },
  {
   "cell_type": "code",
   "execution_count": 1,
   "id": "c6eb07cb-445a-4b2f-b6be-9aa355468b2f",
   "metadata": {},
   "outputs": [],
   "source": [
    "import numpy as np\n",
    "import pandas as pd\n"
   ]
  },
  {
   "cell_type": "markdown",
   "id": "54f68649-1f74-4ffe-8ed4-efa7df1665a3",
   "metadata": {},
   "source": [
    "## Tratamiento de los datos previo a implementar los modelos\n",
    "\n",
    "### Paso 1) Importamos el fichero csv."
   ]
  },
  {
   "cell_type": "code",
   "execution_count": 2,
   "id": "a422b535-6849-4b3c-b38e-841aabe3f03e",
   "metadata": {},
   "outputs": [
    {
     "data": {
      "text/html": [
       "<div>\n",
       "<style scoped>\n",
       "    .dataframe tbody tr th:only-of-type {\n",
       "        vertical-align: middle;\n",
       "    }\n",
       "\n",
       "    .dataframe tbody tr th {\n",
       "        vertical-align: top;\n",
       "    }\n",
       "\n",
       "    .dataframe thead th {\n",
       "        text-align: right;\n",
       "    }\n",
       "</style>\n",
       "<table border=\"1\" class=\"dataframe\">\n",
       "  <thead>\n",
       "    <tr style=\"text-align: right;\">\n",
       "      <th></th>\n",
       "      <th>age</th>\n",
       "      <th>hypertension</th>\n",
       "      <th>heart_disease</th>\n",
       "      <th>ever_married</th>\n",
       "      <th>work_type</th>\n",
       "      <th>avg_glucose_level</th>\n",
       "      <th>bmi</th>\n",
       "      <th>smoking_status</th>\n",
       "      <th>stroke</th>\n",
       "    </tr>\n",
       "  </thead>\n",
       "  <tbody>\n",
       "    <tr>\n",
       "      <th>0</th>\n",
       "      <td>67.0</td>\n",
       "      <td>0</td>\n",
       "      <td>1</td>\n",
       "      <td>1</td>\n",
       "      <td>Private</td>\n",
       "      <td>228.69</td>\n",
       "      <td>36.6</td>\n",
       "      <td>formerly smoked</td>\n",
       "      <td>1</td>\n",
       "    </tr>\n",
       "    <tr>\n",
       "      <th>1</th>\n",
       "      <td>61.0</td>\n",
       "      <td>0</td>\n",
       "      <td>0</td>\n",
       "      <td>1</td>\n",
       "      <td>Self-employed</td>\n",
       "      <td>202.21</td>\n",
       "      <td>28.1</td>\n",
       "      <td>never smoked</td>\n",
       "      <td>1</td>\n",
       "    </tr>\n",
       "    <tr>\n",
       "      <th>2</th>\n",
       "      <td>80.0</td>\n",
       "      <td>0</td>\n",
       "      <td>1</td>\n",
       "      <td>1</td>\n",
       "      <td>Private</td>\n",
       "      <td>105.92</td>\n",
       "      <td>32.5</td>\n",
       "      <td>never smoked</td>\n",
       "      <td>1</td>\n",
       "    </tr>\n",
       "    <tr>\n",
       "      <th>3</th>\n",
       "      <td>49.0</td>\n",
       "      <td>0</td>\n",
       "      <td>0</td>\n",
       "      <td>1</td>\n",
       "      <td>Private</td>\n",
       "      <td>171.23</td>\n",
       "      <td>34.4</td>\n",
       "      <td>smokes</td>\n",
       "      <td>1</td>\n",
       "    </tr>\n",
       "    <tr>\n",
       "      <th>4</th>\n",
       "      <td>79.0</td>\n",
       "      <td>1</td>\n",
       "      <td>0</td>\n",
       "      <td>1</td>\n",
       "      <td>Self-employed</td>\n",
       "      <td>174.12</td>\n",
       "      <td>24.0</td>\n",
       "      <td>never smoked</td>\n",
       "      <td>1</td>\n",
       "    </tr>\n",
       "    <tr>\n",
       "      <th>...</th>\n",
       "      <td>...</td>\n",
       "      <td>...</td>\n",
       "      <td>...</td>\n",
       "      <td>...</td>\n",
       "      <td>...</td>\n",
       "      <td>...</td>\n",
       "      <td>...</td>\n",
       "      <td>...</td>\n",
       "      <td>...</td>\n",
       "    </tr>\n",
       "    <tr>\n",
       "      <th>5105</th>\n",
       "      <td>80.0</td>\n",
       "      <td>1</td>\n",
       "      <td>0</td>\n",
       "      <td>1</td>\n",
       "      <td>Private</td>\n",
       "      <td>83.75</td>\n",
       "      <td>28.1</td>\n",
       "      <td>never smoked</td>\n",
       "      <td>0</td>\n",
       "    </tr>\n",
       "    <tr>\n",
       "      <th>5106</th>\n",
       "      <td>81.0</td>\n",
       "      <td>0</td>\n",
       "      <td>0</td>\n",
       "      <td>1</td>\n",
       "      <td>Self-employed</td>\n",
       "      <td>125.20</td>\n",
       "      <td>40.0</td>\n",
       "      <td>never smoked</td>\n",
       "      <td>0</td>\n",
       "    </tr>\n",
       "    <tr>\n",
       "      <th>5107</th>\n",
       "      <td>35.0</td>\n",
       "      <td>0</td>\n",
       "      <td>0</td>\n",
       "      <td>1</td>\n",
       "      <td>Self-employed</td>\n",
       "      <td>82.99</td>\n",
       "      <td>30.6</td>\n",
       "      <td>never smoked</td>\n",
       "      <td>0</td>\n",
       "    </tr>\n",
       "    <tr>\n",
       "      <th>5108</th>\n",
       "      <td>51.0</td>\n",
       "      <td>0</td>\n",
       "      <td>0</td>\n",
       "      <td>1</td>\n",
       "      <td>Private</td>\n",
       "      <td>166.29</td>\n",
       "      <td>25.6</td>\n",
       "      <td>formerly smoked</td>\n",
       "      <td>0</td>\n",
       "    </tr>\n",
       "    <tr>\n",
       "      <th>5109</th>\n",
       "      <td>44.0</td>\n",
       "      <td>0</td>\n",
       "      <td>0</td>\n",
       "      <td>1</td>\n",
       "      <td>Govt_job</td>\n",
       "      <td>85.28</td>\n",
       "      <td>26.2</td>\n",
       "      <td>Unknown</td>\n",
       "      <td>0</td>\n",
       "    </tr>\n",
       "  </tbody>\n",
       "</table>\n",
       "<p>5110 rows × 9 columns</p>\n",
       "</div>"
      ],
      "text/plain": [
       "       age  hypertension  heart_disease  ever_married      work_type  \\\n",
       "0     67.0             0              1             1        Private   \n",
       "1     61.0             0              0             1  Self-employed   \n",
       "2     80.0             0              1             1        Private   \n",
       "3     49.0             0              0             1        Private   \n",
       "4     79.0             1              0             1  Self-employed   \n",
       "...    ...           ...            ...           ...            ...   \n",
       "5105  80.0             1              0             1        Private   \n",
       "5106  81.0             0              0             1  Self-employed   \n",
       "5107  35.0             0              0             1  Self-employed   \n",
       "5108  51.0             0              0             1        Private   \n",
       "5109  44.0             0              0             1       Govt_job   \n",
       "\n",
       "      avg_glucose_level   bmi   smoking_status  stroke  \n",
       "0                228.69  36.6  formerly smoked       1  \n",
       "1                202.21  28.1     never smoked       1  \n",
       "2                105.92  32.5     never smoked       1  \n",
       "3                171.23  34.4           smokes       1  \n",
       "4                174.12  24.0     never smoked       1  \n",
       "...                 ...   ...              ...     ...  \n",
       "5105              83.75  28.1     never smoked       0  \n",
       "5106             125.20  40.0     never smoked       0  \n",
       "5107              82.99  30.6     never smoked       0  \n",
       "5108             166.29  25.6  formerly smoked       0  \n",
       "5109              85.28  26.2          Unknown       0  \n",
       "\n",
       "[5110 rows x 9 columns]"
      ]
     },
     "execution_count": 2,
     "metadata": {},
     "output_type": "execute_result"
    }
   ],
   "source": [
    "ds_stroke = pd.read_csv(\"/home/guincho/Desktop/stroke_final.csv\")\n",
    "ds_stroke\n"
   ]
  },
  {
   "cell_type": "markdown",
   "id": "8a32c234-ae17-4526-865e-4939791c0035",
   "metadata": {},
   "source": [
    "### Paso 2) Separar la variable a predecir (y = stroke) de las predictoras\n",
    "stroke es la ultima columna del dataset. Estamos creando dos matrices"
   ]
  },
  {
   "cell_type": "code",
   "execution_count": 3,
   "id": "5dc7a457-a4b8-49ea-aaa3-1349725426e2",
   "metadata": {},
   "outputs": [],
   "source": [
    "x = ds_stroke.iloc[:, 0:-1].values\n",
    "y = ds_stroke.iloc[:, -1].values"
   ]
  },
  {
   "cell_type": "code",
   "execution_count": 4,
   "id": "1aec018d-6a04-42ec-abff-ff2127e5bc98",
   "metadata": {},
   "outputs": [
    {
     "data": {
      "text/plain": [
       "array([[67.0, 0, 1, ..., 228.69, 36.6, 'formerly smoked'],\n",
       "       [61.0, 0, 0, ..., 202.21, 28.1, 'never smoked'],\n",
       "       [80.0, 0, 1, ..., 105.92, 32.5, 'never smoked'],\n",
       "       ...,\n",
       "       [35.0, 0, 0, ..., 82.99, 30.6, 'never smoked'],\n",
       "       [51.0, 0, 0, ..., 166.29, 25.6, 'formerly smoked'],\n",
       "       [44.0, 0, 0, ..., 85.28, 26.2, 'Unknown']], dtype=object)"
      ]
     },
     "execution_count": 4,
     "metadata": {},
     "output_type": "execute_result"
    }
   ],
   "source": [
    "x"
   ]
  },
  {
   "cell_type": "code",
   "execution_count": 5,
   "id": "c0e3af71-f5fa-4939-a59f-1d8ff4bc85ae",
   "metadata": {},
   "outputs": [
    {
     "data": {
      "text/plain": [
       "array([67.0, 0, 1, 1, 'Private', 228.69, 36.6, 'formerly smoked'],\n",
       "      dtype=object)"
      ]
     },
     "execution_count": 5,
     "metadata": {},
     "output_type": "execute_result"
    }
   ],
   "source": [
    "x[0]"
   ]
  },
  {
   "cell_type": "markdown",
   "id": "050a8ae8-6f6f-435b-888a-49a8716af8e2",
   "metadata": {},
   "source": [
    "### Paso 3) Tranformar los datos ctegóricos con OneHotEncoder\n",
    "Nuestros datos categóricos son work_type & smoking_status\n",
    "Son las columnas 4 & 7"
   ]
  },
  {
   "cell_type": "code",
   "execution_count": 6,
   "id": "79d38fb5-2a07-465b-86b1-b5c1493c7a75",
   "metadata": {},
   "outputs": [],
   "source": [
    "from sklearn.compose import ColumnTransformer\n",
    "from sklearn.preprocessing import OneHotEncoder\n",
    "\n",
    "columna = ColumnTransformer(transformers = [('encoder', OneHotEncoder(), [4,7])], remainder = 'passthrough')\n",
    "\n",
    "x = np.array(columna.fit_transform(x))"
   ]
  },
  {
   "cell_type": "code",
   "execution_count": 7,
   "id": "39f9957d-d2bb-4355-9201-486cd6576d08",
   "metadata": {},
   "outputs": [
    {
     "data": {
      "text/plain": [
       "array([0.0, 0.0, 1.0, 0.0, 0.0, 0.0, 1.0, 0.0, 0.0, 67.0, 0, 1, 1, 228.69,\n",
       "       36.6], dtype=object)"
      ]
     },
     "execution_count": 7,
     "metadata": {},
     "output_type": "execute_result"
    }
   ],
   "source": [
    "x[0]"
   ]
  },
  {
   "cell_type": "code",
   "execution_count": 8,
   "id": "bb6532cf-7e05-4c70-a8d4-78f34d2fdf05",
   "metadata": {},
   "outputs": [
    {
     "name": "stdout",
     "output_type": "stream",
     "text": [
      "Forma de X:  (5110, 15)\n",
      "Forma de Y:  (5110,)\n"
     ]
    }
   ],
   "source": [
    "print('Forma de X: ', x.shape)\n",
    "print('Forma de Y: ', y.shape)\n"
   ]
  },
  {
   "cell_type": "markdown",
   "id": "711af728-930b-4720-b0fb-f08e424627a8",
   "metadata": {},
   "source": [
    "### Paso 4) Escalado de variables"
   ]
  },
  {
   "cell_type": "code",
   "execution_count": 9,
   "id": "8ee640d8-40fe-4637-9ea6-3eb9eed3c5fa",
   "metadata": {},
   "outputs": [],
   "source": [
    "from sklearn.preprocessing import StandardScaler\n",
    "\n",
    "es = StandardScaler()\n",
    "\n",
    "x = es.fit_transform(x)\n"
   ]
  },
  {
   "cell_type": "markdown",
   "id": "7dff98bb-9ef2-4783-9113-560346c6c7a7",
   "metadata": {},
   "source": [
    "### Paso 5) Dividimos entre Training y Test"
   ]
  },
  {
   "cell_type": "code",
   "execution_count": 10,
   "id": "fc6cf600-3158-4318-bed8-8428676220c2",
   "metadata": {},
   "outputs": [],
   "source": [
    "from sklearn.model_selection import train_test_split\n",
    "\n",
    "x_train, x_test, y_train, y_test = train_test_split(x, y, test_size = 0.3, random_state = 123)"
   ]
  },
  {
   "cell_type": "code",
   "execution_count": 11,
   "id": "65629a83-6e2f-4617-9e27-23ff3f39b05c",
   "metadata": {},
   "outputs": [
    {
     "name": "stdout",
     "output_type": "stream",
     "text": [
      "Predictoras train (3577, 15)\n",
      "Predictoras test (1533, 15)\n",
      "Target train (3577,)\n",
      "Target test (1533,)\n"
     ]
    }
   ],
   "source": [
    "print('Predictoras train {}'.format(x_train.shape))\n",
    "print('Predictoras test {}'.format(x_test.shape))\n",
    "print('Target train {}'.format(y_train.shape))\n",
    "print('Target test {}'.format(y_test.shape))"
   ]
  },
  {
   "cell_type": "markdown",
   "id": "d96fdeb5-04ce-4ccc-90f5-b65cf46fa65d",
   "metadata": {},
   "source": [
    "### Paso 6) Balanceando los datos con SMOTE\n",
    "Las observaciones con Stroke = 1 son mucho menores que aquellas con Stroke = 0. "
   ]
  },
  {
   "cell_type": "code",
   "execution_count": 12,
   "id": "43229ac2-9e18-48b6-9a09-2f43a6674ac2",
   "metadata": {},
   "outputs": [],
   "source": [
    "from imblearn.over_sampling import SMOTE"
   ]
  },
  {
   "cell_type": "code",
   "execution_count": 17,
   "id": "edccaec1-5db6-4adc-879a-95dd713c5bf3",
   "metadata": {},
   "outputs": [
    {
     "name": "stdout",
     "output_type": "stream",
     "text": [
      "Accidentes cardiovasculares == '1', antes del SMOTE: 181\n",
      "Accidentes cardiovasculares == '0', antes del SMOTE: 3396\n",
      "\n",
      "Accidentes cardiovasculares == '1', despues del SMOTE: 3396\n",
      "Accidentes cardiovasculares == '0', despues del SMOTE: 3396\n",
      "\n"
     ]
    }
   ],
   "source": [
    "print(\"Accidentes cardiovasculares == '1', antes del SMOTE: {}\".format(sum(y_train==1)))\n",
    "print(\"Accidentes cardiovasculares == '0', antes del SMOTE: {}\\n\".format(sum(y_train==0)))\n",
    "\n",
    "smote = SMOTE(random_state = 123)\n",
    "x_train_s, y_train_s = smote.fit_resample(x_train, y_train.ravel())\n",
    "\n",
    "print(\"Accidentes cardiovasculares == '1', despues del SMOTE: {}\".format(sum(y_train_res==1)))\n",
    "print(\"Accidentes cardiovasculares == '0', despues del SMOTE: {}\\n\".format(sum(y_train_res==0)))"
   ]
  },
  {
   "cell_type": "markdown",
   "id": "9dc0fd23-9555-40a8-9dee-844c16fb4302",
   "metadata": {},
   "source": [
    "## Modelos de clasificación\n",
    "Vamos a usar 3 modelos de clasificación. Serán:\n",
    "\n",
    "1) RandomForest. Para ver si nos da mejor que en RStudio\n",
    "2) BernoulliNB. Algoritmo de clasificacíon basado en el teorema de bayes. Empleado mucho en características binarias\n",
    "3) SVC (Support vector classifier). El objetivo de un SVC es encontrar el hiperplano que mejor separa las clases en un espacio dimensional"
   ]
  },
  {
   "cell_type": "code",
   "execution_count": 18,
   "id": "e938aede-aa35-47a0-a13f-f5f41a7dc027",
   "metadata": {},
   "outputs": [],
   "source": [
    "from sklearn.ensemble import RandomForestClassifier\n",
    "from sklearn.naive_bayes import BernoulliNB\n",
    "from sklearn.svm import SVC"
   ]
  },
  {
   "cell_type": "code",
   "execution_count": 20,
   "id": "fb9ee41b-7069-4430-adfb-7c7966144058",
   "metadata": {},
   "outputs": [],
   "source": [
    "from sklearn.metrics import recall_score, precision_score, confusion_matrix, classification_report\n",
    "from sklearn.metrics import ConfusionMatrixDisplay, accuracy_score, roc_auc_score, roc_curve\n",
    "\n",
    "from sklearn.model_selection import cross_val_score"
   ]
  },
  {
   "cell_type": "code",
   "execution_count": 39,
   "id": "3d7b5726-5fbb-4c77-a943-854adb129bb4",
   "metadata": {},
   "outputs": [
    {
     "name": "stdout",
     "output_type": "stream",
     "text": [
      "Bosque aleatorio :\n",
      "Matriz de Confusión:\n",
      "[[1350  115]\n",
      " [  50   18]]\n",
      "Valor de Accuracy: 0.892\n",
      "Valor de ROC AUC 0.593\n",
      "Sensibilidad: 26.47%\n",
      "Especificidad: 92.15%\n",
      "\n",
      "\n",
      "SVM :\n",
      "Matriz de Confusión:\n",
      "[[1166  299]\n",
      " [  32   36]]\n",
      "Valor de Accuracy: 0.784\n",
      "Valor de ROC AUC 0.663\n",
      "Sensibilidad: 52.94%\n",
      "Especificidad: 79.59%\n",
      "\n",
      "\n",
      "BernoulliNB :\n",
      "Matriz de Confusión:\n",
      "[[799 666]\n",
      " [  9  59]]\n",
      "Valor de Accuracy: 0.560\n",
      "Valor de ROC AUC 0.707\n",
      "Sensibilidad: 86.76%\n",
      "Especificidad: 54.54%\n",
      "\n",
      "\n"
     ]
    }
   ],
   "source": [
    "modelos = []\n",
    "modelos.append([\"Bosque aleatorio\", RandomForestClassifier(random_state = 123)])\n",
    "modelos.append([\"SVM\", SVC(random_state=123)])\n",
    "modelos.append([\"BernoulliNB\", BernoulliNB()])\n",
    "\n",
    "\n",
    "for i in range(len(modelos)):\n",
    "    m = modelos[i][1]\n",
    "    m.fit(x_train_res, y_train_res)\n",
    "    y_pred = m.predict(x_test)\n",
    "    matriz_conf = confusion_matrix(y_test, y_pred)  # Matriz de confusion\n",
    "    roc = roc_auc_score(y_test, y_pred)  #ROC AUC Score\n",
    "\n",
    "    # Calculando Sensibilidad y Especificidad\n",
    "    tn, fp, fn, tp = matriz_conf.ravel()\n",
    "    sensibilidad = tp / (tp + fn) * 100\n",
    "    especificidad = tn / (tn + fp) * 100\n",
    "\n",
    "    print(modelos[i][0],':')\n",
    "    print('Matriz de Confusión:')\n",
    "    print(matriz_conf)\n",
    "    print('Valor de Accuracy: {:.3f}'.format(accuracy_score(y_test, y_pred)))\n",
    "    print('Valor de ROC AUC {:.3f}'.format(roc))\n",
    "    print('Sensibilidad: {:.2f}%'.format(sensibilidad))\n",
    "    print('Especificidad: {:.2f}%'.format(especificidad))\n",
    "    print('\\n')"
   ]
  },
  {
   "cell_type": "markdown",
   "id": "4f2eb861-8cbb-429d-88a1-89a57b8bb26f",
   "metadata": {},
   "source": [
    "## Conclusiones\n",
    "\n",
    "Si consideramos principalmente el AUC-ROC como métrica de rendimiento, el modelo de Bernoulli Naive Bayes parece ser la mejor opción en este caso\n",
    "\n",
    "El modelo Bernoulli Naive Bayes muestra una alta sensibilidad (86.76%), lo que indica que es bueno identificando verdaderos positivos. Sin embargo, su especificidad es relativamente baja (54.54%)\n",
    "\n",
    "El modelo SVM muestra una sensibilidad baja (52.94%) y una especificidad aceptable (79.59%).\n",
    "\n",
    "Random forest no es un buen modelo ya que su accuracy es muy cercana a 0.5 y por tanto al azar\n"
   ]
  },
  {
   "cell_type": "code",
   "execution_count": null,
   "id": "fef22040-bb77-4040-971a-9b15f3f1dec4",
   "metadata": {},
   "outputs": [],
   "source": []
  }
 ],
 "metadata": {
  "kernelspec": {
   "display_name": "Python 3 (ipykernel)",
   "language": "python",
   "name": "python3"
  },
  "language_info": {
   "codemirror_mode": {
    "name": "ipython",
    "version": 3
   },
   "file_extension": ".py",
   "mimetype": "text/x-python",
   "name": "python",
   "nbconvert_exporter": "python",
   "pygments_lexer": "ipython3",
   "version": "3.10.12"
  }
 },
 "nbformat": 4,
 "nbformat_minor": 5
}
